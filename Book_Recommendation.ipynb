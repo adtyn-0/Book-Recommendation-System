{
 "cells": [
  {
   "cell_type": "markdown",
   "id": "5dc4a7fd-69df-4515-8dd0-3ee8f7f2a7be",
   "metadata": {},
   "source": [
    "### Import Libraries"
   ]
  },
  {
   "cell_type": "code",
   "execution_count": 1,
   "id": "bc9f4e57-654d-4cca-b5ab-2b4231178f57",
   "metadata": {},
   "outputs": [],
   "source": [
    "import pandas as pd\n",
    "import numpy as np"
   ]
  },
  {
   "cell_type": "code",
   "execution_count": 2,
   "id": "9d333d38-10ab-4973-9940-1af6aa2dad6a",
   "metadata": {},
   "outputs": [],
   "source": [
    "books = pd.read_csv('Books.csv', low_memory=False);\n",
    "users = pd.read_csv('Users.csv', low_memory=False);\n",
    "ratings = pd.read_csv('Ratings.csv', low_memory=False);"
   ]
  },
  {
   "cell_type": "code",
   "execution_count": 3,
   "id": "b6d2f0c3-480b-46a3-8e6c-18f5a5394ec8",
   "metadata": {},
   "outputs": [
    {
     "data": {
      "text/plain": [
       "(271360, 8)"
      ]
     },
     "execution_count": 3,
     "metadata": {},
     "output_type": "execute_result"
    }
   ],
   "source": [
    "books.shape"
   ]
  },
  {
   "cell_type": "code",
   "execution_count": 4,
   "id": "d3278882-2704-4dff-b9de-47140c61b1cd",
   "metadata": {},
   "outputs": [
    {
     "data": {
      "text/plain": [
       "(278858, 3)"
      ]
     },
     "execution_count": 4,
     "metadata": {},
     "output_type": "execute_result"
    }
   ],
   "source": [
    "users.shape"
   ]
  },
  {
   "cell_type": "code",
   "execution_count": 5,
   "id": "ad7bbe80-8d46-4832-ad26-19246f255e2b",
   "metadata": {},
   "outputs": [
    {
     "data": {
      "text/plain": [
       "(1149780, 3)"
      ]
     },
     "execution_count": 5,
     "metadata": {},
     "output_type": "execute_result"
    }
   ],
   "source": [
    "ratings.shape"
   ]
  },
  {
   "cell_type": "code",
   "execution_count": 6,
   "id": "a06f279b-85bd-4dfe-beb9-32d1599f5d97",
   "metadata": {},
   "outputs": [],
   "source": [
    "import pandas as pd\n",
    "\n",
    "def rename_columns(dataframe, column_mapping):\n",
    "  \n",
    "    if not isinstance(dataframe, pd.DataFrame):\n",
    "        raise ValueError(\"Input must be a pandas DataFrame.\")\n",
    "    if not isinstance(column_mapping, dict):\n",
    "        raise ValueError(\"Column mapping must be a dictionary.\")\n",
    "    \n",
    "    return dataframe.rename(columns=column_mapping)"
   ]
  },
  {
   "cell_type": "code",
   "execution_count": 7,
   "id": "34c4328a-cd0f-429a-8654-e5ef67aec38a",
   "metadata": {},
   "outputs": [
    {
     "data": {
      "text/plain": [
       "Index(['ISBN', 'Book-Title', 'Book-Author', 'Year-Of-Publication', 'Publisher',\n",
       "       'Image-URL-S', 'Image-URL-M', 'Image-URL-L'],\n",
       "      dtype='object')"
      ]
     },
     "execution_count": 7,
     "metadata": {},
     "output_type": "execute_result"
    }
   ],
   "source": [
    "books.columns"
   ]
  },
  {
   "cell_type": "code",
   "execution_count": 8,
   "id": "4cb075e0-3246-479b-8e4a-823b0f369bd5",
   "metadata": {},
   "outputs": [],
   "source": [
    "# Renaming columns\n",
    "column_mapping = {\n",
    "                    'ISBN': 'ISBN', \n",
    "                    'Book-Title': 'BOOK_TITLE',\n",
    "                    'Book-Author': 'BOOK_AUTHOR', \n",
    "                    'Year-Of-Publication': 'YEAR_OF_PUBLICATION',\n",
    "                    'Publisher': 'PUBLISHER', \n",
    "                    'Image-URL-S': 'IMAGE_URL_S',\n",
    "                    'Image-URL-M': 'IMAGE_URL_M', \n",
    "                    'Image-URL-L': 'IMAGE_URL_L'\n",
    "                }"
   ]
  },
  {
   "cell_type": "code",
   "execution_count": 9,
   "id": "bebde1f0-1d4a-4b53-b807-18a976511b30",
   "metadata": {},
   "outputs": [],
   "source": [
    "books = rename_columns(books, column_mapping)"
   ]
  },
  {
   "cell_type": "code",
   "execution_count": 10,
   "id": "842dfb7f-f82c-4dbb-b78e-eb1ec2146d51",
   "metadata": {},
   "outputs": [
    {
     "data": {
      "text/plain": [
       "Index(['User-ID', 'Location', 'Age'], dtype='object')"
      ]
     },
     "execution_count": 10,
     "metadata": {},
     "output_type": "execute_result"
    }
   ],
   "source": [
    "users.columns"
   ]
  },
  {
   "cell_type": "code",
   "execution_count": 11,
   "id": "fc44c4e3-d835-4c27-ada2-c107efb525db",
   "metadata": {},
   "outputs": [],
   "source": [
    "# Renaming columns\n",
    "column_mapping = {\n",
    "                    'User-ID': 'USER_ID', \n",
    "                    'Location': 'LOCATION',\n",
    "                    'Age': 'AGE'\n",
    "                }"
   ]
  },
  {
   "cell_type": "code",
   "execution_count": 12,
   "id": "61e15d67-ff6a-456c-b2da-db8e9d29eb00",
   "metadata": {},
   "outputs": [],
   "source": [
    "users = rename_columns(users, column_mapping)"
   ]
  },
  {
   "cell_type": "code",
   "execution_count": 13,
   "id": "f63a4109-92a5-4abd-be64-0801cf820b2d",
   "metadata": {},
   "outputs": [
    {
     "data": {
      "text/plain": [
       "Index(['User-ID', 'ISBN', 'Book-Rating'], dtype='object')"
      ]
     },
     "execution_count": 13,
     "metadata": {},
     "output_type": "execute_result"
    }
   ],
   "source": [
    "ratings.columns"
   ]
  },
  {
   "cell_type": "code",
   "execution_count": 14,
   "id": "06f68674-1183-475f-a125-3ee69d8cd8c8",
   "metadata": {},
   "outputs": [],
   "source": [
    "# Renaming columns\n",
    "column_mapping = {\n",
    "                    'User-ID': 'USER_ID', \n",
    "                    'ISBN': 'ISBN',\n",
    "                    'Book-Rating': 'BOOK_RATING'\n",
    "                }"
   ]
  },
  {
   "cell_type": "code",
   "execution_count": 15,
   "id": "17de9930-d858-4e26-96a5-586f19139d4f",
   "metadata": {},
   "outputs": [],
   "source": [
    "ratings = rename_columns(ratings, column_mapping)"
   ]
  },
  {
   "cell_type": "code",
   "execution_count": 16,
   "id": "94a4bc42-ebdb-459d-be22-0790616c46c4",
   "metadata": {},
   "outputs": [
    {
     "data": {
      "text/html": [
       "<div>\n",
       "<style scoped>\n",
       "    .dataframe tbody tr th:only-of-type {\n",
       "        vertical-align: middle;\n",
       "    }\n",
       "\n",
       "    .dataframe tbody tr th {\n",
       "        vertical-align: top;\n",
       "    }\n",
       "\n",
       "    .dataframe thead th {\n",
       "        text-align: right;\n",
       "    }\n",
       "</style>\n",
       "<table border=\"1\" class=\"dataframe\">\n",
       "  <thead>\n",
       "    <tr style=\"text-align: right;\">\n",
       "      <th></th>\n",
       "      <th>Total No. of Missing Values</th>\n",
       "    </tr>\n",
       "  </thead>\n",
       "  <tbody>\n",
       "    <tr>\n",
       "      <th>ISBN</th>\n",
       "      <td>0</td>\n",
       "    </tr>\n",
       "    <tr>\n",
       "      <th>BOOK_TITLE</th>\n",
       "      <td>0</td>\n",
       "    </tr>\n",
       "    <tr>\n",
       "      <th>BOOK_AUTHOR</th>\n",
       "      <td>2</td>\n",
       "    </tr>\n",
       "    <tr>\n",
       "      <th>YEAR_OF_PUBLICATION</th>\n",
       "      <td>0</td>\n",
       "    </tr>\n",
       "    <tr>\n",
       "      <th>PUBLISHER</th>\n",
       "      <td>2</td>\n",
       "    </tr>\n",
       "    <tr>\n",
       "      <th>IMAGE_URL_S</th>\n",
       "      <td>0</td>\n",
       "    </tr>\n",
       "    <tr>\n",
       "      <th>IMAGE_URL_M</th>\n",
       "      <td>0</td>\n",
       "    </tr>\n",
       "    <tr>\n",
       "      <th>IMAGE_URL_L</th>\n",
       "      <td>3</td>\n",
       "    </tr>\n",
       "  </tbody>\n",
       "</table>\n",
       "</div>"
      ],
      "text/plain": [
       "                     Total No. of Missing Values\n",
       "ISBN                                           0\n",
       "BOOK_TITLE                                     0\n",
       "BOOK_AUTHOR                                    2\n",
       "YEAR_OF_PUBLICATION                            0\n",
       "PUBLISHER                                      2\n",
       "IMAGE_URL_S                                    0\n",
       "IMAGE_URL_M                                    0\n",
       "IMAGE_URL_L                                    3"
      ]
     },
     "execution_count": 16,
     "metadata": {},
     "output_type": "execute_result"
    }
   ],
   "source": [
    "books.isnull().sum().to_frame().rename(columns={0:\"Total No. of Missing Values\"})"
   ]
  },
  {
   "cell_type": "code",
   "execution_count": 17,
   "id": "47697827-628f-4d84-a1ec-c6e14457084f",
   "metadata": {},
   "outputs": [
    {
     "data": {
      "text/html": [
       "<div>\n",
       "<style scoped>\n",
       "    .dataframe tbody tr th:only-of-type {\n",
       "        vertical-align: middle;\n",
       "    }\n",
       "\n",
       "    .dataframe tbody tr th {\n",
       "        vertical-align: top;\n",
       "    }\n",
       "\n",
       "    .dataframe thead th {\n",
       "        text-align: right;\n",
       "    }\n",
       "</style>\n",
       "<table border=\"1\" class=\"dataframe\">\n",
       "  <thead>\n",
       "    <tr style=\"text-align: right;\">\n",
       "      <th></th>\n",
       "      <th>Total No. of Missing Values</th>\n",
       "    </tr>\n",
       "  </thead>\n",
       "  <tbody>\n",
       "    <tr>\n",
       "      <th>USER_ID</th>\n",
       "      <td>0</td>\n",
       "    </tr>\n",
       "    <tr>\n",
       "      <th>LOCATION</th>\n",
       "      <td>0</td>\n",
       "    </tr>\n",
       "    <tr>\n",
       "      <th>AGE</th>\n",
       "      <td>110762</td>\n",
       "    </tr>\n",
       "  </tbody>\n",
       "</table>\n",
       "</div>"
      ],
      "text/plain": [
       "          Total No. of Missing Values\n",
       "USER_ID                             0\n",
       "LOCATION                            0\n",
       "AGE                            110762"
      ]
     },
     "execution_count": 17,
     "metadata": {},
     "output_type": "execute_result"
    }
   ],
   "source": [
    "users.isnull().sum().to_frame().rename(columns={0:\"Total No. of Missing Values\"})"
   ]
  },
  {
   "cell_type": "code",
   "execution_count": 18,
   "id": "9f850c05-840b-4fb0-8659-574b4e42dc55",
   "metadata": {},
   "outputs": [
    {
     "data": {
      "text/html": [
       "<div>\n",
       "<style scoped>\n",
       "    .dataframe tbody tr th:only-of-type {\n",
       "        vertical-align: middle;\n",
       "    }\n",
       "\n",
       "    .dataframe tbody tr th {\n",
       "        vertical-align: top;\n",
       "    }\n",
       "\n",
       "    .dataframe thead th {\n",
       "        text-align: right;\n",
       "    }\n",
       "</style>\n",
       "<table border=\"1\" class=\"dataframe\">\n",
       "  <thead>\n",
       "    <tr style=\"text-align: right;\">\n",
       "      <th></th>\n",
       "      <th>Total No. of Missing Values</th>\n",
       "    </tr>\n",
       "  </thead>\n",
       "  <tbody>\n",
       "    <tr>\n",
       "      <th>USER_ID</th>\n",
       "      <td>0</td>\n",
       "    </tr>\n",
       "    <tr>\n",
       "      <th>ISBN</th>\n",
       "      <td>0</td>\n",
       "    </tr>\n",
       "    <tr>\n",
       "      <th>BOOK_RATING</th>\n",
       "      <td>0</td>\n",
       "    </tr>\n",
       "  </tbody>\n",
       "</table>\n",
       "</div>"
      ],
      "text/plain": [
       "             Total No. of Missing Values\n",
       "USER_ID                                0\n",
       "ISBN                                   0\n",
       "BOOK_RATING                            0"
      ]
     },
     "execution_count": 18,
     "metadata": {},
     "output_type": "execute_result"
    }
   ],
   "source": [
    "ratings.isnull().sum().to_frame().rename(columns={0:\"Total No. of Missing Values\"})"
   ]
  },
  {
   "cell_type": "code",
   "execution_count": 19,
   "id": "c902ef96-33fd-4ae2-b699-3cb56a4a0294",
   "metadata": {},
   "outputs": [
    {
     "name": "stdout",
     "output_type": "stream",
     "text": [
      "Duplicate Values = 0\n"
     ]
    }
   ],
   "source": [
    "print(\"Duplicate Values =\",books.duplicated().sum())"
   ]
  },
  {
   "cell_type": "code",
   "execution_count": 20,
   "id": "d6e17e02-5645-4773-ba61-9ba9558af55d",
   "metadata": {},
   "outputs": [
    {
     "name": "stdout",
     "output_type": "stream",
     "text": [
      "Duplicate Values = 0\n"
     ]
    }
   ],
   "source": [
    "print(\"Duplicate Values =\",users.duplicated().sum())"
   ]
  },
  {
   "cell_type": "code",
   "execution_count": 21,
   "id": "94dcc580-cfdb-4e46-9e33-9330b25087d1",
   "metadata": {},
   "outputs": [
    {
     "name": "stdout",
     "output_type": "stream",
     "text": [
      "Duplicate Values = 0\n"
     ]
    }
   ],
   "source": [
    "print(\"Duplicate Values =\",ratings.duplicated().sum())"
   ]
  },
  {
   "cell_type": "code",
   "execution_count": 22,
   "id": "09a96c74-9e97-4fc4-bd46-a7ac2dd4d99b",
   "metadata": {},
   "outputs": [
    {
     "data": {
      "text/html": [
       "<div>\n",
       "<style scoped>\n",
       "    .dataframe tbody tr th:only-of-type {\n",
       "        vertical-align: middle;\n",
       "    }\n",
       "\n",
       "    .dataframe tbody tr th {\n",
       "        vertical-align: top;\n",
       "    }\n",
       "\n",
       "    .dataframe thead th {\n",
       "        text-align: right;\n",
       "    }\n",
       "</style>\n",
       "<table border=\"1\" class=\"dataframe\">\n",
       "  <thead>\n",
       "    <tr style=\"text-align: right;\">\n",
       "      <th></th>\n",
       "      <th>ISBN</th>\n",
       "      <th>BOOK_TITLE</th>\n",
       "      <th>BOOK_AUTHOR</th>\n",
       "      <th>YEAR_OF_PUBLICATION</th>\n",
       "      <th>PUBLISHER</th>\n",
       "      <th>IMAGE_URL_S</th>\n",
       "      <th>IMAGE_URL_M</th>\n",
       "      <th>IMAGE_URL_L</th>\n",
       "    </tr>\n",
       "  </thead>\n",
       "  <tbody>\n",
       "    <tr>\n",
       "      <th>69525</th>\n",
       "      <td>60168307</td>\n",
       "      <td>Sacred Clowns</td>\n",
       "      <td>Tony Hillerman</td>\n",
       "      <td>1994</td>\n",
       "      <td>Harpercollins</td>\n",
       "      <td>https://images.amazon.com/images/P/0060168307....</td>\n",
       "      <td>https://images.amazon.com/images/P/0060168307....</td>\n",
       "      <td>https://images.amazon.com/images/P/0060168307....</td>\n",
       "    </tr>\n",
       "  </tbody>\n",
       "</table>\n",
       "</div>"
      ],
      "text/plain": [
       "           ISBN     BOOK_TITLE     BOOK_AUTHOR YEAR_OF_PUBLICATION  \\\n",
       "69525  60168307  Sacred Clowns  Tony Hillerman                1994   \n",
       "\n",
       "           PUBLISHER                                        IMAGE_URL_S  \\\n",
       "69525  Harpercollins  https://images.amazon.com/images/P/0060168307....   \n",
       "\n",
       "                                             IMAGE_URL_M  \\\n",
       "69525  https://images.amazon.com/images/P/0060168307....   \n",
       "\n",
       "                                             IMAGE_URL_L  \n",
       "69525  https://images.amazon.com/images/P/0060168307....  "
      ]
     },
     "execution_count": 22,
     "metadata": {},
     "output_type": "execute_result"
    }
   ],
   "source": [
    "books.sample(1)"
   ]
  },
  {
   "cell_type": "code",
   "execution_count": 23,
   "id": "2bf0f1a0-f1dd-455e-ba69-68f90360b377",
   "metadata": {},
   "outputs": [
    {
     "data": {
      "text/html": [
       "<div>\n",
       "<style scoped>\n",
       "    .dataframe tbody tr th:only-of-type {\n",
       "        vertical-align: middle;\n",
       "    }\n",
       "\n",
       "    .dataframe tbody tr th {\n",
       "        vertical-align: top;\n",
       "    }\n",
       "\n",
       "    .dataframe thead th {\n",
       "        text-align: right;\n",
       "    }\n",
       "</style>\n",
       "<table border=\"1\" class=\"dataframe\">\n",
       "  <thead>\n",
       "    <tr style=\"text-align: right;\">\n",
       "      <th></th>\n",
       "      <th>USER_ID</th>\n",
       "      <th>LOCATION</th>\n",
       "      <th>AGE</th>\n",
       "    </tr>\n",
       "  </thead>\n",
       "  <tbody>\n",
       "    <tr>\n",
       "      <th>277472</th>\n",
       "      <td>277473</td>\n",
       "      <td>dunbar, nebraska, usa</td>\n",
       "      <td>43.0</td>\n",
       "    </tr>\n",
       "  </tbody>\n",
       "</table>\n",
       "</div>"
      ],
      "text/plain": [
       "        USER_ID               LOCATION   AGE\n",
       "277472   277473  dunbar, nebraska, usa  43.0"
      ]
     },
     "execution_count": 23,
     "metadata": {},
     "output_type": "execute_result"
    }
   ],
   "source": [
    "users.sample()"
   ]
  },
  {
   "cell_type": "code",
   "execution_count": 24,
   "id": "b60cbbba-1324-469c-8b10-d125f9857aca",
   "metadata": {},
   "outputs": [
    {
     "data": {
      "text/html": [
       "<div>\n",
       "<style scoped>\n",
       "    .dataframe tbody tr th:only-of-type {\n",
       "        vertical-align: middle;\n",
       "    }\n",
       "\n",
       "    .dataframe tbody tr th {\n",
       "        vertical-align: top;\n",
       "    }\n",
       "\n",
       "    .dataframe thead th {\n",
       "        text-align: right;\n",
       "    }\n",
       "</style>\n",
       "<table border=\"1\" class=\"dataframe\">\n",
       "  <thead>\n",
       "    <tr style=\"text-align: right;\">\n",
       "      <th></th>\n",
       "      <th>USER_ID</th>\n",
       "      <th>ISBN</th>\n",
       "      <th>BOOK_RATING</th>\n",
       "    </tr>\n",
       "  </thead>\n",
       "  <tbody>\n",
       "    <tr>\n",
       "      <th>644509</th>\n",
       "      <td>155819</td>\n",
       "      <td>0553200550</td>\n",
       "      <td>0</td>\n",
       "    </tr>\n",
       "  </tbody>\n",
       "</table>\n",
       "</div>"
      ],
      "text/plain": [
       "        USER_ID        ISBN  BOOK_RATING\n",
       "644509   155819  0553200550            0"
      ]
     },
     "execution_count": 24,
     "metadata": {},
     "output_type": "execute_result"
    }
   ],
   "source": [
    "ratings.sample()"
   ]
  },
  {
   "cell_type": "code",
   "execution_count": 25,
   "id": "59274f37-fb3d-4f0d-95ac-64405f925b8b",
   "metadata": {},
   "outputs": [
    {
     "data": {
      "text/html": [
       "<div>\n",
       "<style scoped>\n",
       "    .dataframe tbody tr th:only-of-type {\n",
       "        vertical-align: middle;\n",
       "    }\n",
       "\n",
       "    .dataframe tbody tr th {\n",
       "        vertical-align: top;\n",
       "    }\n",
       "\n",
       "    .dataframe thead th {\n",
       "        text-align: right;\n",
       "    }\n",
       "</style>\n",
       "<table border=\"1\" class=\"dataframe\">\n",
       "  <thead>\n",
       "    <tr style=\"text-align: right;\">\n",
       "      <th></th>\n",
       "      <th>USER_ID</th>\n",
       "      <th>ISBN</th>\n",
       "      <th>BOOK_RATING</th>\n",
       "      <th>BOOK_TITLE</th>\n",
       "      <th>BOOK_AUTHOR</th>\n",
       "      <th>YEAR_OF_PUBLICATION</th>\n",
       "      <th>PUBLISHER</th>\n",
       "      <th>IMAGE_URL_S</th>\n",
       "      <th>IMAGE_URL_M</th>\n",
       "      <th>IMAGE_URL_L</th>\n",
       "    </tr>\n",
       "  </thead>\n",
       "  <tbody>\n",
       "    <tr>\n",
       "      <th>190988</th>\n",
       "      <td>267418</td>\n",
       "      <td>3442445590</td>\n",
       "      <td>0</td>\n",
       "      <td>Spice Boys. Die VerschwÃ?Â¶rung der MÃ?Â¤nner.</td>\n",
       "      <td>Sparkle Hayter</td>\n",
       "      <td>1999</td>\n",
       "      <td>Goldmann</td>\n",
       "      <td>https://images.amazon.com/images/P/3442445590....</td>\n",
       "      <td>https://images.amazon.com/images/P/3442445590....</td>\n",
       "      <td>https://images.amazon.com/images/P/3442445590....</td>\n",
       "    </tr>\n",
       "  </tbody>\n",
       "</table>\n",
       "</div>"
      ],
      "text/plain": [
       "        USER_ID        ISBN  BOOK_RATING  \\\n",
       "190988   267418  3442445590            0   \n",
       "\n",
       "                                            BOOK_TITLE     BOOK_AUTHOR  \\\n",
       "190988  Spice Boys. Die VerschwÃ?Â¶rung der MÃ?Â¤nner.  Sparkle Hayter   \n",
       "\n",
       "       YEAR_OF_PUBLICATION PUBLISHER  \\\n",
       "190988                1999  Goldmann   \n",
       "\n",
       "                                              IMAGE_URL_S  \\\n",
       "190988  https://images.amazon.com/images/P/3442445590....   \n",
       "\n",
       "                                              IMAGE_URL_M  \\\n",
       "190988  https://images.amazon.com/images/P/3442445590....   \n",
       "\n",
       "                                              IMAGE_URL_L  \n",
       "190988  https://images.amazon.com/images/P/3442445590....  "
      ]
     },
     "execution_count": 25,
     "metadata": {},
     "output_type": "execute_result"
    }
   ],
   "source": [
    "rating_with_name = ratings.merge(books, on='ISBN')\n",
    "rating_with_name.sample()"
   ]
  },
  {
   "cell_type": "markdown",
   "id": "6567a80a-5119-48ca-afa5-18d2bc51491a",
   "metadata": {},
   "source": [
    "### Popularity Based recommendation System"
   ]
  },
  {
   "cell_type": "code",
   "execution_count": 26,
   "id": "92762f56-394f-41fd-91fb-6ea6e0127575",
   "metadata": {},
   "outputs": [
    {
     "data": {
      "text/html": [
       "<div>\n",
       "<style scoped>\n",
       "    .dataframe tbody tr th:only-of-type {\n",
       "        vertical-align: middle;\n",
       "    }\n",
       "\n",
       "    .dataframe tbody tr th {\n",
       "        vertical-align: top;\n",
       "    }\n",
       "\n",
       "    .dataframe thead th {\n",
       "        text-align: right;\n",
       "    }\n",
       "</style>\n",
       "<table border=\"1\" class=\"dataframe\">\n",
       "  <thead>\n",
       "    <tr style=\"text-align: right;\">\n",
       "      <th></th>\n",
       "      <th>BOOK_TITLE</th>\n",
       "      <th>NUM_OF_RATING</th>\n",
       "    </tr>\n",
       "  </thead>\n",
       "  <tbody>\n",
       "    <tr>\n",
       "      <th>0</th>\n",
       "      <td>Earth Prayers From around the World: 365 Pray...</td>\n",
       "      <td>10</td>\n",
       "    </tr>\n",
       "    <tr>\n",
       "      <th>1</th>\n",
       "      <td>Final Fantasy Anthology: Official Strategy Gu...</td>\n",
       "      <td>4</td>\n",
       "    </tr>\n",
       "    <tr>\n",
       "      <th>2</th>\n",
       "      <td>Flight of Fancy: American Heiresses (Zebra Ba...</td>\n",
       "      <td>2</td>\n",
       "    </tr>\n",
       "    <tr>\n",
       "      <th>3</th>\n",
       "      <td>Little Comic Shop of Horrors (Give Yourself G...</td>\n",
       "      <td>4</td>\n",
       "    </tr>\n",
       "    <tr>\n",
       "      <th>4</th>\n",
       "      <td>Mystery Mile</td>\n",
       "      <td>2</td>\n",
       "    </tr>\n",
       "    <tr>\n",
       "      <th>...</th>\n",
       "      <td>...</td>\n",
       "      <td>...</td>\n",
       "    </tr>\n",
       "    <tr>\n",
       "      <th>68750</th>\n",
       "      <td>Ã?Â?lpiraten.</td>\n",
       "      <td>2</td>\n",
       "    </tr>\n",
       "    <tr>\n",
       "      <th>68751</th>\n",
       "      <td>Ã?Â?rger mit Produkt X. Roman.</td>\n",
       "      <td>4</td>\n",
       "    </tr>\n",
       "    <tr>\n",
       "      <th>68752</th>\n",
       "      <td>Ã?Â?sterlich leben.</td>\n",
       "      <td>1</td>\n",
       "    </tr>\n",
       "    <tr>\n",
       "      <th>68753</th>\n",
       "      <td>Ã?Â?stlich der Berge.</td>\n",
       "      <td>3</td>\n",
       "    </tr>\n",
       "    <tr>\n",
       "      <th>68754</th>\n",
       "      <td>Ã?Â?thique en toc</td>\n",
       "      <td>2</td>\n",
       "    </tr>\n",
       "  </tbody>\n",
       "</table>\n",
       "<p>68755 rows × 2 columns</p>\n",
       "</div>"
      ],
      "text/plain": [
       "                                              BOOK_TITLE  NUM_OF_RATING\n",
       "0       Earth Prayers From around the World: 365 Pray...             10\n",
       "1       Final Fantasy Anthology: Official Strategy Gu...              4\n",
       "2       Flight of Fancy: American Heiresses (Zebra Ba...              2\n",
       "3       Little Comic Shop of Horrors (Give Yourself G...              4\n",
       "4                                           Mystery Mile              2\n",
       "...                                                  ...            ...\n",
       "68750                                      Ã?Â?lpiraten.              2\n",
       "68751                     Ã?Â?rger mit Produkt X. Roman.              4\n",
       "68752                                Ã?Â?sterlich leben.              1\n",
       "68753                              Ã?Â?stlich der Berge.              3\n",
       "68754                                  Ã?Â?thique en toc              2\n",
       "\n",
       "[68755 rows x 2 columns]"
      ]
     },
     "execution_count": 26,
     "metadata": {},
     "output_type": "execute_result"
    }
   ],
   "source": [
    "# Group by BOOK_TITLE and calculate the number of rating\n",
    "num_rating_dataframe = rating_with_name.groupby('BOOK_TITLE').size().reset_index(name='NUM_OF_RATING').sort_values(by='BOOK_TITLE', ascending=True)\n",
    "num_rating_dataframe"
   ]
  },
  {
   "cell_type": "code",
   "execution_count": 27,
   "id": "f1a3dad1-b862-4b56-a2e1-aa0bf5003d07",
   "metadata": {},
   "outputs": [
    {
     "data": {
      "text/html": [
       "<div>\n",
       "<style scoped>\n",
       "    .dataframe tbody tr th:only-of-type {\n",
       "        vertical-align: middle;\n",
       "    }\n",
       "\n",
       "    .dataframe tbody tr th {\n",
       "        vertical-align: top;\n",
       "    }\n",
       "\n",
       "    .dataframe thead th {\n",
       "        text-align: right;\n",
       "    }\n",
       "</style>\n",
       "<table border=\"1\" class=\"dataframe\">\n",
       "  <thead>\n",
       "    <tr style=\"text-align: right;\">\n",
       "      <th></th>\n",
       "      <th>BOOK_TITLE</th>\n",
       "      <th>AVG_RATING</th>\n",
       "    </tr>\n",
       "  </thead>\n",
       "  <tbody>\n",
       "    <tr>\n",
       "      <th>0</th>\n",
       "      <td>Earth Prayers From around the World: 365 Pray...</td>\n",
       "      <td>5.000000</td>\n",
       "    </tr>\n",
       "    <tr>\n",
       "      <th>1</th>\n",
       "      <td>Final Fantasy Anthology: Official Strategy Gu...</td>\n",
       "      <td>5.000000</td>\n",
       "    </tr>\n",
       "    <tr>\n",
       "      <th>2</th>\n",
       "      <td>Flight of Fancy: American Heiresses (Zebra Ba...</td>\n",
       "      <td>4.000000</td>\n",
       "    </tr>\n",
       "    <tr>\n",
       "      <th>3</th>\n",
       "      <td>Little Comic Shop of Horrors (Give Yourself G...</td>\n",
       "      <td>1.250000</td>\n",
       "    </tr>\n",
       "    <tr>\n",
       "      <th>4</th>\n",
       "      <td>Mystery Mile</td>\n",
       "      <td>0.000000</td>\n",
       "    </tr>\n",
       "    <tr>\n",
       "      <th>...</th>\n",
       "      <td>...</td>\n",
       "      <td>...</td>\n",
       "    </tr>\n",
       "    <tr>\n",
       "      <th>68750</th>\n",
       "      <td>Ã?Â?lpiraten.</td>\n",
       "      <td>0.000000</td>\n",
       "    </tr>\n",
       "    <tr>\n",
       "      <th>68751</th>\n",
       "      <td>Ã?Â?rger mit Produkt X. Roman.</td>\n",
       "      <td>5.250000</td>\n",
       "    </tr>\n",
       "    <tr>\n",
       "      <th>68752</th>\n",
       "      <td>Ã?Â?sterlich leben.</td>\n",
       "      <td>7.000000</td>\n",
       "    </tr>\n",
       "    <tr>\n",
       "      <th>68753</th>\n",
       "      <td>Ã?Â?stlich der Berge.</td>\n",
       "      <td>2.666667</td>\n",
       "    </tr>\n",
       "    <tr>\n",
       "      <th>68754</th>\n",
       "      <td>Ã?Â?thique en toc</td>\n",
       "      <td>4.000000</td>\n",
       "    </tr>\n",
       "  </tbody>\n",
       "</table>\n",
       "<p>68755 rows × 2 columns</p>\n",
       "</div>"
      ],
      "text/plain": [
       "                                              BOOK_TITLE  AVG_RATING\n",
       "0       Earth Prayers From around the World: 365 Pray...    5.000000\n",
       "1       Final Fantasy Anthology: Official Strategy Gu...    5.000000\n",
       "2       Flight of Fancy: American Heiresses (Zebra Ba...    4.000000\n",
       "3       Little Comic Shop of Horrors (Give Yourself G...    1.250000\n",
       "4                                           Mystery Mile    0.000000\n",
       "...                                                  ...         ...\n",
       "68750                                      Ã?Â?lpiraten.    0.000000\n",
       "68751                     Ã?Â?rger mit Produkt X. Roman.    5.250000\n",
       "68752                                Ã?Â?sterlich leben.    7.000000\n",
       "68753                              Ã?Â?stlich der Berge.    2.666667\n",
       "68754                                  Ã?Â?thique en toc    4.000000\n",
       "\n",
       "[68755 rows x 2 columns]"
      ]
     },
     "execution_count": 27,
     "metadata": {},
     "output_type": "execute_result"
    }
   ],
   "source": [
    "# Group by BOOK_TITLE and calculate the average rating\n",
    "avg_rating_dataframe = rating_with_name.groupby('BOOK_TITLE')['BOOK_RATING'].mean().reset_index(name='AVG_RATING')\n",
    "avg_rating_dataframe"
   ]
  },
  {
   "cell_type": "code",
   "execution_count": 28,
   "id": "c0ae34c4-0beb-4196-b800-763a8dc8e059",
   "metadata": {},
   "outputs": [
    {
     "data": {
      "text/html": [
       "<div>\n",
       "<style scoped>\n",
       "    .dataframe tbody tr th:only-of-type {\n",
       "        vertical-align: middle;\n",
       "    }\n",
       "\n",
       "    .dataframe tbody tr th {\n",
       "        vertical-align: top;\n",
       "    }\n",
       "\n",
       "    .dataframe thead th {\n",
       "        text-align: right;\n",
       "    }\n",
       "</style>\n",
       "<table border=\"1\" class=\"dataframe\">\n",
       "  <thead>\n",
       "    <tr style=\"text-align: right;\">\n",
       "      <th></th>\n",
       "      <th>BOOK_TITLE</th>\n",
       "      <th>NUM_OF_RATING</th>\n",
       "      <th>AVG_RATING</th>\n",
       "    </tr>\n",
       "  </thead>\n",
       "  <tbody>\n",
       "    <tr>\n",
       "      <th>0</th>\n",
       "      <td>Earth Prayers From around the World: 365 Pray...</td>\n",
       "      <td>10</td>\n",
       "      <td>5.000000</td>\n",
       "    </tr>\n",
       "    <tr>\n",
       "      <th>1</th>\n",
       "      <td>Final Fantasy Anthology: Official Strategy Gu...</td>\n",
       "      <td>4</td>\n",
       "      <td>5.000000</td>\n",
       "    </tr>\n",
       "    <tr>\n",
       "      <th>2</th>\n",
       "      <td>Flight of Fancy: American Heiresses (Zebra Ba...</td>\n",
       "      <td>2</td>\n",
       "      <td>4.000000</td>\n",
       "    </tr>\n",
       "    <tr>\n",
       "      <th>3</th>\n",
       "      <td>Little Comic Shop of Horrors (Give Yourself G...</td>\n",
       "      <td>4</td>\n",
       "      <td>1.250000</td>\n",
       "    </tr>\n",
       "    <tr>\n",
       "      <th>4</th>\n",
       "      <td>Mystery Mile</td>\n",
       "      <td>2</td>\n",
       "      <td>0.000000</td>\n",
       "    </tr>\n",
       "    <tr>\n",
       "      <th>...</th>\n",
       "      <td>...</td>\n",
       "      <td>...</td>\n",
       "      <td>...</td>\n",
       "    </tr>\n",
       "    <tr>\n",
       "      <th>68750</th>\n",
       "      <td>Ã?Â?lpiraten.</td>\n",
       "      <td>2</td>\n",
       "      <td>0.000000</td>\n",
       "    </tr>\n",
       "    <tr>\n",
       "      <th>68751</th>\n",
       "      <td>Ã?Â?rger mit Produkt X. Roman.</td>\n",
       "      <td>4</td>\n",
       "      <td>5.250000</td>\n",
       "    </tr>\n",
       "    <tr>\n",
       "      <th>68752</th>\n",
       "      <td>Ã?Â?sterlich leben.</td>\n",
       "      <td>1</td>\n",
       "      <td>7.000000</td>\n",
       "    </tr>\n",
       "    <tr>\n",
       "      <th>68753</th>\n",
       "      <td>Ã?Â?stlich der Berge.</td>\n",
       "      <td>3</td>\n",
       "      <td>2.666667</td>\n",
       "    </tr>\n",
       "    <tr>\n",
       "      <th>68754</th>\n",
       "      <td>Ã?Â?thique en toc</td>\n",
       "      <td>2</td>\n",
       "      <td>4.000000</td>\n",
       "    </tr>\n",
       "  </tbody>\n",
       "</table>\n",
       "<p>68755 rows × 3 columns</p>\n",
       "</div>"
      ],
      "text/plain": [
       "                                              BOOK_TITLE  NUM_OF_RATING  \\\n",
       "0       Earth Prayers From around the World: 365 Pray...             10   \n",
       "1       Final Fantasy Anthology: Official Strategy Gu...              4   \n",
       "2       Flight of Fancy: American Heiresses (Zebra Ba...              2   \n",
       "3       Little Comic Shop of Horrors (Give Yourself G...              4   \n",
       "4                                           Mystery Mile              2   \n",
       "...                                                  ...            ...   \n",
       "68750                                      Ã?Â?lpiraten.              2   \n",
       "68751                     Ã?Â?rger mit Produkt X. Roman.              4   \n",
       "68752                                Ã?Â?sterlich leben.              1   \n",
       "68753                              Ã?Â?stlich der Berge.              3   \n",
       "68754                                  Ã?Â?thique en toc              2   \n",
       "\n",
       "       AVG_RATING  \n",
       "0        5.000000  \n",
       "1        5.000000  \n",
       "2        4.000000  \n",
       "3        1.250000  \n",
       "4        0.000000  \n",
       "...           ...  \n",
       "68750    0.000000  \n",
       "68751    5.250000  \n",
       "68752    7.000000  \n",
       "68753    2.666667  \n",
       "68754    4.000000  \n",
       "\n",
       "[68755 rows x 3 columns]"
      ]
     },
     "execution_count": 28,
     "metadata": {},
     "output_type": "execute_result"
    }
   ],
   "source": [
    "popular_dataframe = num_rating_dataframe.merge(avg_rating_dataframe, on='BOOK_TITLE')\n",
    "popular_dataframe"
   ]
  },
  {
   "cell_type": "code",
   "execution_count": 29,
   "id": "8d501bbe-70d2-4bda-b016-cf2e687e24ac",
   "metadata": {},
   "outputs": [
    {
     "data": {
      "text/html": [
       "<div>\n",
       "<style scoped>\n",
       "    .dataframe tbody tr th:only-of-type {\n",
       "        vertical-align: middle;\n",
       "    }\n",
       "\n",
       "    .dataframe tbody tr th {\n",
       "        vertical-align: top;\n",
       "    }\n",
       "\n",
       "    .dataframe thead th {\n",
       "        text-align: right;\n",
       "    }\n",
       "</style>\n",
       "<table border=\"1\" class=\"dataframe\">\n",
       "  <thead>\n",
       "    <tr style=\"text-align: right;\">\n",
       "      <th></th>\n",
       "      <th>BOOK_TITLE</th>\n",
       "      <th>NUM_OF_RATING</th>\n",
       "      <th>AVG_RATING</th>\n",
       "    </tr>\n",
       "  </thead>\n",
       "  <tbody>\n",
       "    <tr>\n",
       "      <th>24876</th>\n",
       "      <td>Harry Potter and the Order of the Phoenix (Boo...</td>\n",
       "      <td>335</td>\n",
       "      <td>5.585075</td>\n",
       "    </tr>\n",
       "    <tr>\n",
       "      <th>24884</th>\n",
       "      <td>Harry Potter and the Sorcerer's Stone (Harry P...</td>\n",
       "      <td>575</td>\n",
       "      <td>4.895652</td>\n",
       "    </tr>\n",
       "    <tr>\n",
       "      <th>612</th>\n",
       "      <td>A Child Called \\It\\\": One Child's Courage to S...</td>\n",
       "      <td>265</td>\n",
       "      <td>4.086792</td>\n",
       "    </tr>\n",
       "    <tr>\n",
       "      <th>7252</th>\n",
       "      <td>Bridget Jones's Diary</td>\n",
       "      <td>270</td>\n",
       "      <td>3.751852</td>\n",
       "    </tr>\n",
       "    <tr>\n",
       "      <th>58321</th>\n",
       "      <td>The No. 1 Ladies' Detective Agency (Today Show...</td>\n",
       "      <td>431</td>\n",
       "      <td>3.417633</td>\n",
       "    </tr>\n",
       "    <tr>\n",
       "      <th>26518</th>\n",
       "      <td>How to Be Good</td>\n",
       "      <td>304</td>\n",
       "      <td>3.305921</td>\n",
       "    </tr>\n",
       "    <tr>\n",
       "      <th>49920</th>\n",
       "      <td>Snow Falling on Cedars</td>\n",
       "      <td>627</td>\n",
       "      <td>3.236045</td>\n",
       "    </tr>\n",
       "    <tr>\n",
       "      <th>1231</th>\n",
       "      <td>A Painted House</td>\n",
       "      <td>833</td>\n",
       "      <td>3.222089</td>\n",
       "    </tr>\n",
       "    <tr>\n",
       "      <th>53948</th>\n",
       "      <td>The Bridges of Madison County</td>\n",
       "      <td>371</td>\n",
       "      <td>3.097035</td>\n",
       "    </tr>\n",
       "    <tr>\n",
       "      <th>55697</th>\n",
       "      <td>The Firm</td>\n",
       "      <td>535</td>\n",
       "      <td>3.063551</td>\n",
       "    </tr>\n",
       "    <tr>\n",
       "      <th>47454</th>\n",
       "      <td>STONES FROM THE RIVER</td>\n",
       "      <td>345</td>\n",
       "      <td>2.976812</td>\n",
       "    </tr>\n",
       "    <tr>\n",
       "      <th>2725</th>\n",
       "      <td>All I Really Need to Know</td>\n",
       "      <td>258</td>\n",
       "      <td>2.879845</td>\n",
       "    </tr>\n",
       "    <tr>\n",
       "      <th>57524</th>\n",
       "      <td>The Lost World</td>\n",
       "      <td>251</td>\n",
       "      <td>2.864542</td>\n",
       "    </tr>\n",
       "    <tr>\n",
       "      <th>57057</th>\n",
       "      <td>The Kitchen God's Wife</td>\n",
       "      <td>278</td>\n",
       "      <td>2.852518</td>\n",
       "    </tr>\n",
       "    <tr>\n",
       "      <th>59156</th>\n",
       "      <td>The Rainmaker</td>\n",
       "      <td>388</td>\n",
       "      <td>2.695876</td>\n",
       "    </tr>\n",
       "    <tr>\n",
       "      <th>58691</th>\n",
       "      <td>The Perfect Storm : A True Story of Men Agains...</td>\n",
       "      <td>365</td>\n",
       "      <td>2.408219</td>\n",
       "    </tr>\n",
       "  </tbody>\n",
       "</table>\n",
       "</div>"
      ],
      "text/plain": [
       "                                              BOOK_TITLE  NUM_OF_RATING  \\\n",
       "24876  Harry Potter and the Order of the Phoenix (Boo...            335   \n",
       "24884  Harry Potter and the Sorcerer's Stone (Harry P...            575   \n",
       "612    A Child Called \\It\\\": One Child's Courage to S...            265   \n",
       "7252                               Bridget Jones's Diary            270   \n",
       "58321  The No. 1 Ladies' Detective Agency (Today Show...            431   \n",
       "26518                                     How to Be Good            304   \n",
       "49920                             Snow Falling on Cedars            627   \n",
       "1231                                     A Painted House            833   \n",
       "53948                      The Bridges of Madison County            371   \n",
       "55697                                           The Firm            535   \n",
       "47454                              STONES FROM THE RIVER            345   \n",
       "2725                           All I Really Need to Know            258   \n",
       "57524                                     The Lost World            251   \n",
       "57057                             The Kitchen God's Wife            278   \n",
       "59156                                      The Rainmaker            388   \n",
       "58691  The Perfect Storm : A True Story of Men Agains...            365   \n",
       "\n",
       "       AVG_RATING  \n",
       "24876    5.585075  \n",
       "24884    4.895652  \n",
       "612      4.086792  \n",
       "7252     3.751852  \n",
       "58321    3.417633  \n",
       "26518    3.305921  \n",
       "49920    3.236045  \n",
       "1231     3.222089  \n",
       "53948    3.097035  \n",
       "55697    3.063551  \n",
       "47454    2.976812  \n",
       "2725     2.879845  \n",
       "57524    2.864542  \n",
       "57057    2.852518  \n",
       "59156    2.695876  \n",
       "58691    2.408219  "
      ]
     },
     "execution_count": 29,
     "metadata": {},
     "output_type": "execute_result"
    }
   ],
   "source": [
    "popular_dataframe = popular_dataframe[popular_dataframe['NUM_OF_RATING'] > 250].sort_values('AVG_RATING', ascending= False).head(50)\n",
    "popular_dataframe"
   ]
  },
  {
   "cell_type": "code",
   "execution_count": 30,
   "id": "2b673d83-7f96-4519-9506-ce63531fea64",
   "metadata": {},
   "outputs": [
    {
     "data": {
      "text/html": [
       "<div>\n",
       "<style scoped>\n",
       "    .dataframe tbody tr th:only-of-type {\n",
       "        vertical-align: middle;\n",
       "    }\n",
       "\n",
       "    .dataframe tbody tr th {\n",
       "        vertical-align: top;\n",
       "    }\n",
       "\n",
       "    .dataframe thead th {\n",
       "        text-align: right;\n",
       "    }\n",
       "</style>\n",
       "<table border=\"1\" class=\"dataframe\">\n",
       "  <thead>\n",
       "    <tr style=\"text-align: right;\">\n",
       "      <th></th>\n",
       "      <th>BOOK_TITLE</th>\n",
       "      <th>AVG_RATING</th>\n",
       "      <th>BOOK_AUTHOR</th>\n",
       "      <th>PUBLISHER</th>\n",
       "      <th>IMAGE_URL_M</th>\n",
       "    </tr>\n",
       "  </thead>\n",
       "  <tbody>\n",
       "    <tr>\n",
       "      <th>0</th>\n",
       "      <td>Harry Potter and the Order of the Phoenix (Boo...</td>\n",
       "      <td>5.585075</td>\n",
       "      <td>J. K. Rowling</td>\n",
       "      <td>Scholastic</td>\n",
       "      <td>https://images.amazon.com/images/P/043935806X....</td>\n",
       "    </tr>\n",
       "    <tr>\n",
       "      <th>4</th>\n",
       "      <td>Harry Potter and the Sorcerer's Stone (Harry P...</td>\n",
       "      <td>4.895652</td>\n",
       "      <td>J. K. Rowling</td>\n",
       "      <td>Arthur A. Levine Books</td>\n",
       "      <td>https://images.amazon.com/images/P/059035342X....</td>\n",
       "    </tr>\n",
       "    <tr>\n",
       "      <th>6</th>\n",
       "      <td>A Child Called \\It\\\": One Child's Courage to S...</td>\n",
       "      <td>4.086792</td>\n",
       "      <td>Dave Pelzer</td>\n",
       "      <td>Health Communications</td>\n",
       "      <td>https://images.amazon.com/images/P/1558743669....</td>\n",
       "    </tr>\n",
       "    <tr>\n",
       "      <th>8</th>\n",
       "      <td>Bridget Jones's Diary</td>\n",
       "      <td>3.751852</td>\n",
       "      <td>Helen Fielding</td>\n",
       "      <td>Picador (UK)</td>\n",
       "      <td>https://images.amazon.com/images/P/0330332775....</td>\n",
       "    </tr>\n",
       "    <tr>\n",
       "      <th>14</th>\n",
       "      <td>The No. 1 Ladies' Detective Agency (Today Show...</td>\n",
       "      <td>3.417633</td>\n",
       "      <td>Alexander McCall Smith</td>\n",
       "      <td>Anchor</td>\n",
       "      <td>https://images.amazon.com/images/P/1400034779....</td>\n",
       "    </tr>\n",
       "    <tr>\n",
       "      <th>15</th>\n",
       "      <td>How to Be Good</td>\n",
       "      <td>3.305921</td>\n",
       "      <td>Nick Hornby</td>\n",
       "      <td>Riverhead Books</td>\n",
       "      <td>https://images.amazon.com/images/P/1573229326....</td>\n",
       "    </tr>\n",
       "    <tr>\n",
       "      <th>18</th>\n",
       "      <td>Snow Falling on Cedars</td>\n",
       "      <td>3.236045</td>\n",
       "      <td>David Guterson</td>\n",
       "      <td>Harcourt</td>\n",
       "      <td>https://images.amazon.com/images/P/0151001006....</td>\n",
       "    </tr>\n",
       "    <tr>\n",
       "      <th>25</th>\n",
       "      <td>A Painted House</td>\n",
       "      <td>3.222089</td>\n",
       "      <td>John Grisham</td>\n",
       "      <td>Dell Publishing Company</td>\n",
       "      <td>https://images.amazon.com/images/P/044023722X....</td>\n",
       "    </tr>\n",
       "    <tr>\n",
       "      <th>30</th>\n",
       "      <td>The Bridges of Madison County</td>\n",
       "      <td>3.097035</td>\n",
       "      <td>Robert James Waller</td>\n",
       "      <td>Warner Books</td>\n",
       "      <td>https://images.amazon.com/images/P/044651652X....</td>\n",
       "    </tr>\n",
       "    <tr>\n",
       "      <th>35</th>\n",
       "      <td>The Firm</td>\n",
       "      <td>3.063551</td>\n",
       "      <td>John Grisham</td>\n",
       "      <td>Doubleday Books</td>\n",
       "      <td>https://images.amazon.com/images/P/0385416342....</td>\n",
       "    </tr>\n",
       "    <tr>\n",
       "      <th>42</th>\n",
       "      <td>STONES FROM THE RIVER</td>\n",
       "      <td>2.976812</td>\n",
       "      <td>Ursula Hegi</td>\n",
       "      <td>Simon &amp;amp; Schuster</td>\n",
       "      <td>https://images.amazon.com/images/P/0684844729....</td>\n",
       "    </tr>\n",
       "    <tr>\n",
       "      <th>46</th>\n",
       "      <td>All I Really Need to Know</td>\n",
       "      <td>2.879845</td>\n",
       "      <td>ROBERT FULGHUM</td>\n",
       "      <td>Ivy Books</td>\n",
       "      <td>https://images.amazon.com/images/P/080410526X....</td>\n",
       "    </tr>\n",
       "    <tr>\n",
       "      <th>48</th>\n",
       "      <td>The Lost World</td>\n",
       "      <td>2.864542</td>\n",
       "      <td>Michael Crichton</td>\n",
       "      <td>Ballantine Books</td>\n",
       "      <td>https://images.amazon.com/images/P/034540288X....</td>\n",
       "    </tr>\n",
       "    <tr>\n",
       "      <th>55</th>\n",
       "      <td>The Kitchen God's Wife</td>\n",
       "      <td>2.852518</td>\n",
       "      <td>Amy Tan</td>\n",
       "      <td>Putnam Pub Group</td>\n",
       "      <td>https://images.amazon.com/images/P/0399135782....</td>\n",
       "    </tr>\n",
       "    <tr>\n",
       "      <th>60</th>\n",
       "      <td>The Rainmaker</td>\n",
       "      <td>2.695876</td>\n",
       "      <td>JOHN GRISHAM</td>\n",
       "      <td>Dell</td>\n",
       "      <td>https://images.amazon.com/images/P/044022165X....</td>\n",
       "    </tr>\n",
       "    <tr>\n",
       "      <th>67</th>\n",
       "      <td>The Perfect Storm : A True Story of Men Agains...</td>\n",
       "      <td>2.408219</td>\n",
       "      <td>Sebastian Junger</td>\n",
       "      <td>Perennial</td>\n",
       "      <td>https://images.amazon.com/images/P/0060977477....</td>\n",
       "    </tr>\n",
       "  </tbody>\n",
       "</table>\n",
       "</div>"
      ],
      "text/plain": [
       "                                           BOOK_TITLE  AVG_RATING  \\\n",
       "0   Harry Potter and the Order of the Phoenix (Boo...    5.585075   \n",
       "4   Harry Potter and the Sorcerer's Stone (Harry P...    4.895652   \n",
       "6   A Child Called \\It\\\": One Child's Courage to S...    4.086792   \n",
       "8                               Bridget Jones's Diary    3.751852   \n",
       "14  The No. 1 Ladies' Detective Agency (Today Show...    3.417633   \n",
       "15                                     How to Be Good    3.305921   \n",
       "18                             Snow Falling on Cedars    3.236045   \n",
       "25                                    A Painted House    3.222089   \n",
       "30                      The Bridges of Madison County    3.097035   \n",
       "35                                           The Firm    3.063551   \n",
       "42                              STONES FROM THE RIVER    2.976812   \n",
       "46                          All I Really Need to Know    2.879845   \n",
       "48                                     The Lost World    2.864542   \n",
       "55                             The Kitchen God's Wife    2.852518   \n",
       "60                                      The Rainmaker    2.695876   \n",
       "67  The Perfect Storm : A True Story of Men Agains...    2.408219   \n",
       "\n",
       "               BOOK_AUTHOR                PUBLISHER  \\\n",
       "0            J. K. Rowling               Scholastic   \n",
       "4            J. K. Rowling   Arthur A. Levine Books   \n",
       "6              Dave Pelzer    Health Communications   \n",
       "8           Helen Fielding             Picador (UK)   \n",
       "14  Alexander McCall Smith                   Anchor   \n",
       "15             Nick Hornby          Riverhead Books   \n",
       "18          David Guterson                 Harcourt   \n",
       "25            John Grisham  Dell Publishing Company   \n",
       "30     Robert James Waller             Warner Books   \n",
       "35            John Grisham          Doubleday Books   \n",
       "42             Ursula Hegi     Simon &amp; Schuster   \n",
       "46          ROBERT FULGHUM                Ivy Books   \n",
       "48        Michael Crichton         Ballantine Books   \n",
       "55                 Amy Tan         Putnam Pub Group   \n",
       "60            JOHN GRISHAM                     Dell   \n",
       "67        Sebastian Junger                Perennial   \n",
       "\n",
       "                                          IMAGE_URL_M  \n",
       "0   https://images.amazon.com/images/P/043935806X....  \n",
       "4   https://images.amazon.com/images/P/059035342X....  \n",
       "6   https://images.amazon.com/images/P/1558743669....  \n",
       "8   https://images.amazon.com/images/P/0330332775....  \n",
       "14  https://images.amazon.com/images/P/1400034779....  \n",
       "15  https://images.amazon.com/images/P/1573229326....  \n",
       "18  https://images.amazon.com/images/P/0151001006....  \n",
       "25  https://images.amazon.com/images/P/044023722X....  \n",
       "30  https://images.amazon.com/images/P/044651652X....  \n",
       "35  https://images.amazon.com/images/P/0385416342....  \n",
       "42  https://images.amazon.com/images/P/0684844729....  \n",
       "46  https://images.amazon.com/images/P/080410526X....  \n",
       "48  https://images.amazon.com/images/P/034540288X....  \n",
       "55  https://images.amazon.com/images/P/0399135782....  \n",
       "60  https://images.amazon.com/images/P/044022165X....  \n",
       "67  https://images.amazon.com/images/P/0060977477....  "
      ]
     },
     "execution_count": 30,
     "metadata": {},
     "output_type": "execute_result"
    }
   ],
   "source": [
    "popular_dataframe = popular_dataframe.merge(books, on='BOOK_TITLE').drop_duplicates('BOOK_TITLE')[['BOOK_TITLE','AVG_RATING','BOOK_AUTHOR','PUBLISHER','IMAGE_URL_M']]\n",
    "popular_dataframe"
   ]
  },
  {
   "cell_type": "markdown",
   "id": "7a5d8495-badf-4fee-bc3f-1b6b4e732364",
   "metadata": {},
   "source": [
    "**Find all those users who rated atleast 200 books**"
   ]
  },
  {
   "cell_type": "code",
   "execution_count": 31,
   "id": "e54c570b-7b74-4c10-8cc1-9aba93642da0",
   "metadata": {},
   "outputs": [],
   "source": [
    "rated_atleast_200_books = rating_with_name.groupby('USER_ID').count()['BOOK_RATING'] > 200"
   ]
  },
  {
   "cell_type": "markdown",
   "id": "fa92cfb1-1362-49f2-a221-dc48bbb7b25c",
   "metadata": {},
   "source": [
    "**Get the index of all those users who rated atleast 200 books**"
   ]
  },
  {
   "cell_type": "code",
   "execution_count": 32,
   "id": "72028f9d-4d5f-4501-b9f4-551eece3b20d",
   "metadata": {},
   "outputs": [],
   "source": [
    "book_worm = rated_atleast_200_books[rated_atleast_200_books].index"
   ]
  },
  {
   "cell_type": "markdown",
   "id": "293112e8-4f59-4079-971c-74baf890aa09",
   "metadata": {},
   "source": [
    "**Create the dataframe for those users who rated atleast 200 books**"
   ]
  },
  {
   "cell_type": "code",
   "execution_count": 33,
   "id": "8c186f9b-9762-4a33-b1db-5ccd2d6a730a",
   "metadata": {},
   "outputs": [
    {
     "data": {
      "text/html": [
       "<div>\n",
       "<style scoped>\n",
       "    .dataframe tbody tr th:only-of-type {\n",
       "        vertical-align: middle;\n",
       "    }\n",
       "\n",
       "    .dataframe tbody tr th {\n",
       "        vertical-align: top;\n",
       "    }\n",
       "\n",
       "    .dataframe thead th {\n",
       "        text-align: right;\n",
       "    }\n",
       "</style>\n",
       "<table border=\"1\" class=\"dataframe\">\n",
       "  <thead>\n",
       "    <tr style=\"text-align: right;\">\n",
       "      <th></th>\n",
       "      <th>USER_ID</th>\n",
       "      <th>ISBN</th>\n",
       "      <th>BOOK_RATING</th>\n",
       "      <th>BOOK_TITLE</th>\n",
       "      <th>BOOK_AUTHOR</th>\n",
       "      <th>YEAR_OF_PUBLICATION</th>\n",
       "      <th>PUBLISHER</th>\n",
       "      <th>IMAGE_URL_S</th>\n",
       "      <th>IMAGE_URL_M</th>\n",
       "      <th>IMAGE_URL_L</th>\n",
       "    </tr>\n",
       "  </thead>\n",
       "  <tbody>\n",
       "    <tr>\n",
       "      <th>922</th>\n",
       "      <td>278418</td>\n",
       "      <td>002043300X</td>\n",
       "      <td>0</td>\n",
       "      <td>Big Snow</td>\n",
       "      <td>Berta Hader</td>\n",
       "      <td>1972</td>\n",
       "      <td>MacMillan Publishing Company.</td>\n",
       "      <td>https://images.amazon.com/images/P/002043300X....</td>\n",
       "      <td>https://images.amazon.com/images/P/002043300X....</td>\n",
       "      <td>https://images.amazon.com/images/P/002043300X....</td>\n",
       "    </tr>\n",
       "    <tr>\n",
       "      <th>923</th>\n",
       "      <td>278418</td>\n",
       "      <td>003021436X</td>\n",
       "      <td>0</td>\n",
       "      <td>Yakety Yak Yak Yak (Sweet Pickles Series)</td>\n",
       "      <td>Richard Hefter</td>\n",
       "      <td>1977</td>\n",
       "      <td>Henry Holt &amp;amp; Co (J)</td>\n",
       "      <td>https://images.amazon.com/images/P/003021436X....</td>\n",
       "      <td>https://images.amazon.com/images/P/003021436X....</td>\n",
       "      <td>https://images.amazon.com/images/P/003021436X....</td>\n",
       "    </tr>\n",
       "    <tr>\n",
       "      <th>924</th>\n",
       "      <td>278418</td>\n",
       "      <td>006015957X</td>\n",
       "      <td>0</td>\n",
       "      <td>Roseanne: My Life As a Woman</td>\n",
       "      <td>Roseanne</td>\n",
       "      <td>1989</td>\n",
       "      <td>Harpercollins</td>\n",
       "      <td>https://images.amazon.com/images/P/006015957X....</td>\n",
       "      <td>https://images.amazon.com/images/P/006015957X....</td>\n",
       "      <td>https://images.amazon.com/images/P/006015957X....</td>\n",
       "    </tr>\n",
       "    <tr>\n",
       "      <th>925</th>\n",
       "      <td>278418</td>\n",
       "      <td>006016848X</td>\n",
       "      <td>0</td>\n",
       "      <td>Men Are from Mars, Women Are from Venus: A Pra...</td>\n",
       "      <td>John Gray</td>\n",
       "      <td>1992</td>\n",
       "      <td>HarperCollins Publishers</td>\n",
       "      <td>https://images.amazon.com/images/P/006016848X....</td>\n",
       "      <td>https://images.amazon.com/images/P/006016848X....</td>\n",
       "      <td>https://images.amazon.com/images/P/006016848X....</td>\n",
       "    </tr>\n",
       "    <tr>\n",
       "      <th>926</th>\n",
       "      <td>278418</td>\n",
       "      <td>006020883X</td>\n",
       "      <td>0</td>\n",
       "      <td>The Golly Sisters Go West (An I Can Read Book)</td>\n",
       "      <td>Betsy Cromer Byars</td>\n",
       "      <td>1985</td>\n",
       "      <td>Harper &amp;amp; Row</td>\n",
       "      <td>https://images.amazon.com/images/P/006020883X....</td>\n",
       "      <td>https://images.amazon.com/images/P/006020883X....</td>\n",
       "      <td>https://images.amazon.com/images/P/006020883X....</td>\n",
       "    </tr>\n",
       "    <tr>\n",
       "      <th>...</th>\n",
       "      <td>...</td>\n",
       "      <td>...</td>\n",
       "      <td>...</td>\n",
       "      <td>...</td>\n",
       "      <td>...</td>\n",
       "      <td>...</td>\n",
       "      <td>...</td>\n",
       "      <td>...</td>\n",
       "      <td>...</td>\n",
       "      <td>...</td>\n",
       "    </tr>\n",
       "    <tr>\n",
       "      <th>196373</th>\n",
       "      <td>275970</td>\n",
       "      <td>1931868123</td>\n",
       "      <td>0</td>\n",
       "      <td>There's a Porcupine in My Outhouse: Misadventu...</td>\n",
       "      <td>Mike Tougias</td>\n",
       "      <td>2002</td>\n",
       "      <td>Capital Books (VA)</td>\n",
       "      <td>https://images.amazon.com/images/P/1931868123....</td>\n",
       "      <td>https://images.amazon.com/images/P/1931868123....</td>\n",
       "      <td>https://images.amazon.com/images/P/1931868123....</td>\n",
       "    </tr>\n",
       "    <tr>\n",
       "      <th>196374</th>\n",
       "      <td>275970</td>\n",
       "      <td>3411086211</td>\n",
       "      <td>10</td>\n",
       "      <td>Die Biene.</td>\n",
       "      <td>Sybil GrÃ?Â¤fin SchÃ?Â¶nfeldt</td>\n",
       "      <td>1993</td>\n",
       "      <td>Bibliographisches Institut, Mannheim</td>\n",
       "      <td>https://images.amazon.com/images/P/3411086211....</td>\n",
       "      <td>https://images.amazon.com/images/P/3411086211....</td>\n",
       "      <td>https://images.amazon.com/images/P/3411086211....</td>\n",
       "    </tr>\n",
       "    <tr>\n",
       "      <th>196375</th>\n",
       "      <td>275970</td>\n",
       "      <td>3829021860</td>\n",
       "      <td>0</td>\n",
       "      <td>The Penis Book</td>\n",
       "      <td>Joseph Cohen</td>\n",
       "      <td>1999</td>\n",
       "      <td>Konemann</td>\n",
       "      <td>https://images.amazon.com/images/P/3829021860....</td>\n",
       "      <td>https://images.amazon.com/images/P/3829021860....</td>\n",
       "      <td>https://images.amazon.com/images/P/3829021860....</td>\n",
       "    </tr>\n",
       "    <tr>\n",
       "      <th>196376</th>\n",
       "      <td>275970</td>\n",
       "      <td>4770019572</td>\n",
       "      <td>0</td>\n",
       "      <td>Musashi</td>\n",
       "      <td>Eiji Yoshikawa</td>\n",
       "      <td>1995</td>\n",
       "      <td>Kodansha International (JPN)</td>\n",
       "      <td>https://images.amazon.com/images/P/4770019572....</td>\n",
       "      <td>https://images.amazon.com/images/P/4770019572....</td>\n",
       "      <td>https://images.amazon.com/images/P/4770019572....</td>\n",
       "    </tr>\n",
       "    <tr>\n",
       "      <th>196377</th>\n",
       "      <td>275970</td>\n",
       "      <td>9626340762</td>\n",
       "      <td>8</td>\n",
       "      <td>Northanger Abbey (Classic Literature with Clas...</td>\n",
       "      <td>Jane Austen</td>\n",
       "      <td>1996</td>\n",
       "      <td>Naxos Audiobooks Ltd.</td>\n",
       "      <td>https://images.amazon.com/images/P/9626340762....</td>\n",
       "      <td>https://images.amazon.com/images/P/9626340762....</td>\n",
       "      <td>https://images.amazon.com/images/P/9626340762....</td>\n",
       "    </tr>\n",
       "  </tbody>\n",
       "</table>\n",
       "<p>25199 rows × 10 columns</p>\n",
       "</div>"
      ],
      "text/plain": [
       "        USER_ID        ISBN  BOOK_RATING  \\\n",
       "922      278418  002043300X            0   \n",
       "923      278418  003021436X            0   \n",
       "924      278418  006015957X            0   \n",
       "925      278418  006016848X            0   \n",
       "926      278418  006020883X            0   \n",
       "...         ...         ...          ...   \n",
       "196373   275970  1931868123            0   \n",
       "196374   275970  3411086211           10   \n",
       "196375   275970  3829021860            0   \n",
       "196376   275970  4770019572            0   \n",
       "196377   275970  9626340762            8   \n",
       "\n",
       "                                               BOOK_TITLE  \\\n",
       "922                                              Big Snow   \n",
       "923             Yakety Yak Yak Yak (Sweet Pickles Series)   \n",
       "924                          Roseanne: My Life As a Woman   \n",
       "925     Men Are from Mars, Women Are from Venus: A Pra...   \n",
       "926        The Golly Sisters Go West (An I Can Read Book)   \n",
       "...                                                   ...   \n",
       "196373  There's a Porcupine in My Outhouse: Misadventu...   \n",
       "196374                                         Die Biene.   \n",
       "196375                                     The Penis Book   \n",
       "196376                                            Musashi   \n",
       "196377  Northanger Abbey (Classic Literature with Clas...   \n",
       "\n",
       "                          BOOK_AUTHOR YEAR_OF_PUBLICATION  \\\n",
       "922                       Berta Hader                1972   \n",
       "923                    Richard Hefter                1977   \n",
       "924                          Roseanne                1989   \n",
       "925                         John Gray                1992   \n",
       "926                Betsy Cromer Byars                1985   \n",
       "...                               ...                 ...   \n",
       "196373                   Mike Tougias                2002   \n",
       "196374  Sybil GrÃ?Â¤fin SchÃ?Â¶nfeldt                1993   \n",
       "196375                   Joseph Cohen                1999   \n",
       "196376                 Eiji Yoshikawa                1995   \n",
       "196377                    Jane Austen                1996   \n",
       "\n",
       "                                   PUBLISHER  \\\n",
       "922            MacMillan Publishing Company.   \n",
       "923                  Henry Holt &amp; Co (J)   \n",
       "924                            Harpercollins   \n",
       "925                 HarperCollins Publishers   \n",
       "926                         Harper &amp; Row   \n",
       "...                                      ...   \n",
       "196373                    Capital Books (VA)   \n",
       "196374  Bibliographisches Institut, Mannheim   \n",
       "196375                              Konemann   \n",
       "196376          Kodansha International (JPN)   \n",
       "196377                 Naxos Audiobooks Ltd.   \n",
       "\n",
       "                                              IMAGE_URL_S  \\\n",
       "922     https://images.amazon.com/images/P/002043300X....   \n",
       "923     https://images.amazon.com/images/P/003021436X....   \n",
       "924     https://images.amazon.com/images/P/006015957X....   \n",
       "925     https://images.amazon.com/images/P/006016848X....   \n",
       "926     https://images.amazon.com/images/P/006020883X....   \n",
       "...                                                   ...   \n",
       "196373  https://images.amazon.com/images/P/1931868123....   \n",
       "196374  https://images.amazon.com/images/P/3411086211....   \n",
       "196375  https://images.amazon.com/images/P/3829021860....   \n",
       "196376  https://images.amazon.com/images/P/4770019572....   \n",
       "196377  https://images.amazon.com/images/P/9626340762....   \n",
       "\n",
       "                                              IMAGE_URL_M  \\\n",
       "922     https://images.amazon.com/images/P/002043300X....   \n",
       "923     https://images.amazon.com/images/P/003021436X....   \n",
       "924     https://images.amazon.com/images/P/006015957X....   \n",
       "925     https://images.amazon.com/images/P/006016848X....   \n",
       "926     https://images.amazon.com/images/P/006020883X....   \n",
       "...                                                   ...   \n",
       "196373  https://images.amazon.com/images/P/1931868123....   \n",
       "196374  https://images.amazon.com/images/P/3411086211....   \n",
       "196375  https://images.amazon.com/images/P/3829021860....   \n",
       "196376  https://images.amazon.com/images/P/4770019572....   \n",
       "196377  https://images.amazon.com/images/P/9626340762....   \n",
       "\n",
       "                                              IMAGE_URL_L  \n",
       "922     https://images.amazon.com/images/P/002043300X....  \n",
       "923     https://images.amazon.com/images/P/003021436X....  \n",
       "924     https://images.amazon.com/images/P/006015957X....  \n",
       "925     https://images.amazon.com/images/P/006016848X....  \n",
       "926     https://images.amazon.com/images/P/006020883X....  \n",
       "...                                                   ...  \n",
       "196373  https://images.amazon.com/images/P/1931868123....  \n",
       "196374  https://images.amazon.com/images/P/3411086211....  \n",
       "196375  https://images.amazon.com/images/P/3829021860....  \n",
       "196376  https://images.amazon.com/images/P/4770019572....  \n",
       "196377  https://images.amazon.com/images/P/9626340762....  \n",
       "\n",
       "[25199 rows x 10 columns]"
      ]
     },
     "execution_count": 33,
     "metadata": {},
     "output_type": "execute_result"
    }
   ],
   "source": [
    "filtered_rating = rating_with_name[rating_with_name['USER_ID'].isin(book_worm)]\n",
    "filtered_rating"
   ]
  },
  {
   "cell_type": "markdown",
   "id": "c66acc17-e469-4963-ae6b-b1c1f9f773a0",
   "metadata": {},
   "source": [
    "**Find all those books which has atleast 50 rating**"
   ]
  },
  {
   "cell_type": "code",
   "execution_count": 34,
   "id": "fdfb9176-b270-4977-b6e5-8602057bf0e4",
   "metadata": {},
   "outputs": [],
   "source": [
    "book_rated_50 = filtered_rating.groupby('BOOK_TITLE').count()['BOOK_RATING'] >= 50\n",
    "famous_books = book_rated_50[book_rated_50].index"
   ]
  },
  {
   "cell_type": "code",
   "execution_count": 35,
   "id": "9b8d5e7e-19e2-444e-9f6b-af08026eacc1",
   "metadata": {},
   "outputs": [],
   "source": [
    "final_rating = filtered_rating[filtered_rating['BOOK_TITLE'].isin(famous_books)]"
   ]
  },
  {
   "cell_type": "markdown",
   "id": "b0b7ebaa-955e-424b-8076-beb0423d470b",
   "metadata": {},
   "source": [
    "**Pivot the table**"
   ]
  },
  {
   "cell_type": "code",
   "execution_count": 36,
   "id": "f9d1a608-4dda-478b-88ae-10786779b8de",
   "metadata": {},
   "outputs": [],
   "source": [
    "pt = final_rating.drop_duplicates().pivot_table(index='BOOK_TITLE',columns='USER_ID',values = 'BOOK_RATING')"
   ]
  },
  {
   "cell_type": "code",
   "execution_count": 37,
   "id": "98498f96-4b91-4553-90be-55598276a9d2",
   "metadata": {},
   "outputs": [],
   "source": [
    "pt.fillna(0,inplace=True)"
   ]
  },
  {
   "cell_type": "code",
   "execution_count": null,
   "id": "7e758724",
   "metadata": {},
   "outputs": [],
   "source": [
    "pt"
   ]
  },
  {
   "cell_type": "code",
   "execution_count": 39,
   "id": "81a52b50-6bd0-45db-80bf-7828b1ea33e3",
   "metadata": {},
   "outputs": [],
   "source": [
    "from sklearn.metrics.pairwise import cosine_similarity"
   ]
  },
  {
   "cell_type": "code",
   "execution_count": 40,
   "id": "674182a0-c45e-479d-8877-c45f8d2bd4f1",
   "metadata": {},
   "outputs": [
    {
     "ename": "ValueError",
     "evalue": "Found array with 0 sample(s) (shape=(0, 0)) while a minimum of 1 is required by check_pairwise_arrays.",
     "output_type": "error",
     "traceback": [
      "\u001b[1;31m---------------------------------------------------------------------------\u001b[0m",
      "\u001b[1;31mValueError\u001b[0m                                Traceback (most recent call last)",
      "Cell \u001b[1;32mIn[40], line 1\u001b[0m\n\u001b[1;32m----> 1\u001b[0m similarity_score \u001b[38;5;241m=\u001b[39m \u001b[43mcosine_similarity\u001b[49m\u001b[43m(\u001b[49m\u001b[43mpt\u001b[49m\u001b[43m)\u001b[49m\n",
      "File \u001b[1;32m~\\AppData\\Roaming\\Python\\Python312\\site-packages\\sklearn\\utils\\_param_validation.py:213\u001b[0m, in \u001b[0;36mvalidate_params.<locals>.decorator.<locals>.wrapper\u001b[1;34m(*args, **kwargs)\u001b[0m\n\u001b[0;32m    207\u001b[0m \u001b[38;5;28;01mtry\u001b[39;00m:\n\u001b[0;32m    208\u001b[0m     \u001b[38;5;28;01mwith\u001b[39;00m config_context(\n\u001b[0;32m    209\u001b[0m         skip_parameter_validation\u001b[38;5;241m=\u001b[39m(\n\u001b[0;32m    210\u001b[0m             prefer_skip_nested_validation \u001b[38;5;129;01mor\u001b[39;00m global_skip_validation\n\u001b[0;32m    211\u001b[0m         )\n\u001b[0;32m    212\u001b[0m     ):\n\u001b[1;32m--> 213\u001b[0m         \u001b[38;5;28;01mreturn\u001b[39;00m \u001b[43mfunc\u001b[49m\u001b[43m(\u001b[49m\u001b[38;5;241;43m*\u001b[39;49m\u001b[43margs\u001b[49m\u001b[43m,\u001b[49m\u001b[43m \u001b[49m\u001b[38;5;241;43m*\u001b[39;49m\u001b[38;5;241;43m*\u001b[39;49m\u001b[43mkwargs\u001b[49m\u001b[43m)\u001b[49m\n\u001b[0;32m    214\u001b[0m \u001b[38;5;28;01mexcept\u001b[39;00m InvalidParameterError \u001b[38;5;28;01mas\u001b[39;00m e:\n\u001b[0;32m    215\u001b[0m     \u001b[38;5;66;03m# When the function is just a wrapper around an estimator, we allow\u001b[39;00m\n\u001b[0;32m    216\u001b[0m     \u001b[38;5;66;03m# the function to delegate validation to the estimator, but we replace\u001b[39;00m\n\u001b[0;32m    217\u001b[0m     \u001b[38;5;66;03m# the name of the estimator by the name of the function in the error\u001b[39;00m\n\u001b[0;32m    218\u001b[0m     \u001b[38;5;66;03m# message to avoid confusion.\u001b[39;00m\n\u001b[0;32m    219\u001b[0m     msg \u001b[38;5;241m=\u001b[39m re\u001b[38;5;241m.\u001b[39msub(\n\u001b[0;32m    220\u001b[0m         \u001b[38;5;124mr\u001b[39m\u001b[38;5;124m\"\u001b[39m\u001b[38;5;124mparameter of \u001b[39m\u001b[38;5;124m\\\u001b[39m\u001b[38;5;124mw+ must be\u001b[39m\u001b[38;5;124m\"\u001b[39m,\n\u001b[0;32m    221\u001b[0m         \u001b[38;5;124mf\u001b[39m\u001b[38;5;124m\"\u001b[39m\u001b[38;5;124mparameter of \u001b[39m\u001b[38;5;132;01m{\u001b[39;00mfunc\u001b[38;5;241m.\u001b[39m\u001b[38;5;18m__qualname__\u001b[39m\u001b[38;5;132;01m}\u001b[39;00m\u001b[38;5;124m must be\u001b[39m\u001b[38;5;124m\"\u001b[39m,\n\u001b[0;32m    222\u001b[0m         \u001b[38;5;28mstr\u001b[39m(e),\n\u001b[0;32m    223\u001b[0m     )\n",
      "File \u001b[1;32m~\\AppData\\Roaming\\Python\\Python312\\site-packages\\sklearn\\metrics\\pairwise.py:1679\u001b[0m, in \u001b[0;36mcosine_similarity\u001b[1;34m(X, Y, dense_output)\u001b[0m\n\u001b[0;32m   1635\u001b[0m \u001b[38;5;250m\u001b[39m\u001b[38;5;124;03m\"\"\"Compute cosine similarity between samples in X and Y.\u001b[39;00m\n\u001b[0;32m   1636\u001b[0m \n\u001b[0;32m   1637\u001b[0m \u001b[38;5;124;03mCosine similarity, or the cosine kernel, computes similarity as the\u001b[39;00m\n\u001b[1;32m   (...)\u001b[0m\n\u001b[0;32m   1675\u001b[0m \u001b[38;5;124;03m       [0.57..., 0.81...]])\u001b[39;00m\n\u001b[0;32m   1676\u001b[0m \u001b[38;5;124;03m\"\"\"\u001b[39;00m\n\u001b[0;32m   1677\u001b[0m \u001b[38;5;66;03m# to avoid recursive import\u001b[39;00m\n\u001b[1;32m-> 1679\u001b[0m X, Y \u001b[38;5;241m=\u001b[39m \u001b[43mcheck_pairwise_arrays\u001b[49m\u001b[43m(\u001b[49m\u001b[43mX\u001b[49m\u001b[43m,\u001b[49m\u001b[43m \u001b[49m\u001b[43mY\u001b[49m\u001b[43m)\u001b[49m\n\u001b[0;32m   1681\u001b[0m X_normalized \u001b[38;5;241m=\u001b[39m normalize(X, copy\u001b[38;5;241m=\u001b[39m\u001b[38;5;28;01mTrue\u001b[39;00m)\n\u001b[0;32m   1682\u001b[0m \u001b[38;5;28;01mif\u001b[39;00m X \u001b[38;5;129;01mis\u001b[39;00m Y:\n",
      "File \u001b[1;32m~\\AppData\\Roaming\\Python\\Python312\\site-packages\\sklearn\\metrics\\pairwise.py:175\u001b[0m, in \u001b[0;36mcheck_pairwise_arrays\u001b[1;34m(X, Y, precomputed, dtype, accept_sparse, force_all_finite, ensure_2d, copy)\u001b[0m\n\u001b[0;32m    172\u001b[0m     dtype \u001b[38;5;241m=\u001b[39m dtype_float\n\u001b[0;32m    174\u001b[0m \u001b[38;5;28;01mif\u001b[39;00m Y \u001b[38;5;129;01mis\u001b[39;00m X \u001b[38;5;129;01mor\u001b[39;00m Y \u001b[38;5;129;01mis\u001b[39;00m \u001b[38;5;28;01mNone\u001b[39;00m:\n\u001b[1;32m--> 175\u001b[0m     X \u001b[38;5;241m=\u001b[39m Y \u001b[38;5;241m=\u001b[39m \u001b[43mcheck_array\u001b[49m\u001b[43m(\u001b[49m\n\u001b[0;32m    176\u001b[0m \u001b[43m        \u001b[49m\u001b[43mX\u001b[49m\u001b[43m,\u001b[49m\n\u001b[0;32m    177\u001b[0m \u001b[43m        \u001b[49m\u001b[43maccept_sparse\u001b[49m\u001b[38;5;241;43m=\u001b[39;49m\u001b[43maccept_sparse\u001b[49m\u001b[43m,\u001b[49m\n\u001b[0;32m    178\u001b[0m \u001b[43m        \u001b[49m\u001b[43mdtype\u001b[49m\u001b[38;5;241;43m=\u001b[39;49m\u001b[43mdtype\u001b[49m\u001b[43m,\u001b[49m\n\u001b[0;32m    179\u001b[0m \u001b[43m        \u001b[49m\u001b[43mcopy\u001b[49m\u001b[38;5;241;43m=\u001b[39;49m\u001b[43mcopy\u001b[49m\u001b[43m,\u001b[49m\n\u001b[0;32m    180\u001b[0m \u001b[43m        \u001b[49m\u001b[43mforce_all_finite\u001b[49m\u001b[38;5;241;43m=\u001b[39;49m\u001b[43mforce_all_finite\u001b[49m\u001b[43m,\u001b[49m\n\u001b[0;32m    181\u001b[0m \u001b[43m        \u001b[49m\u001b[43mestimator\u001b[49m\u001b[38;5;241;43m=\u001b[39;49m\u001b[43mestimator\u001b[49m\u001b[43m,\u001b[49m\n\u001b[0;32m    182\u001b[0m \u001b[43m        \u001b[49m\u001b[43mensure_2d\u001b[49m\u001b[38;5;241;43m=\u001b[39;49m\u001b[43mensure_2d\u001b[49m\u001b[43m,\u001b[49m\n\u001b[0;32m    183\u001b[0m \u001b[43m    \u001b[49m\u001b[43m)\u001b[49m\n\u001b[0;32m    184\u001b[0m \u001b[38;5;28;01melse\u001b[39;00m:\n\u001b[0;32m    185\u001b[0m     X \u001b[38;5;241m=\u001b[39m check_array(\n\u001b[0;32m    186\u001b[0m         X,\n\u001b[0;32m    187\u001b[0m         accept_sparse\u001b[38;5;241m=\u001b[39maccept_sparse,\n\u001b[1;32m   (...)\u001b[0m\n\u001b[0;32m    192\u001b[0m         ensure_2d\u001b[38;5;241m=\u001b[39mensure_2d,\n\u001b[0;32m    193\u001b[0m     )\n",
      "File \u001b[1;32m~\\AppData\\Roaming\\Python\\Python312\\site-packages\\sklearn\\utils\\validation.py:1087\u001b[0m, in \u001b[0;36mcheck_array\u001b[1;34m(array, accept_sparse, accept_large_sparse, dtype, order, copy, force_writeable, force_all_finite, ensure_2d, allow_nd, ensure_min_samples, ensure_min_features, estimator, input_name)\u001b[0m\n\u001b[0;32m   1085\u001b[0m     n_samples \u001b[38;5;241m=\u001b[39m _num_samples(array)\n\u001b[0;32m   1086\u001b[0m     \u001b[38;5;28;01mif\u001b[39;00m n_samples \u001b[38;5;241m<\u001b[39m ensure_min_samples:\n\u001b[1;32m-> 1087\u001b[0m         \u001b[38;5;28;01mraise\u001b[39;00m \u001b[38;5;167;01mValueError\u001b[39;00m(\n\u001b[0;32m   1088\u001b[0m             \u001b[38;5;124m\"\u001b[39m\u001b[38;5;124mFound array with \u001b[39m\u001b[38;5;132;01m%d\u001b[39;00m\u001b[38;5;124m sample(s) (shape=\u001b[39m\u001b[38;5;132;01m%s\u001b[39;00m\u001b[38;5;124m) while a\u001b[39m\u001b[38;5;124m\"\u001b[39m\n\u001b[0;32m   1089\u001b[0m             \u001b[38;5;124m\"\u001b[39m\u001b[38;5;124m minimum of \u001b[39m\u001b[38;5;132;01m%d\u001b[39;00m\u001b[38;5;124m is required\u001b[39m\u001b[38;5;132;01m%s\u001b[39;00m\u001b[38;5;124m.\u001b[39m\u001b[38;5;124m\"\u001b[39m\n\u001b[0;32m   1090\u001b[0m             \u001b[38;5;241m%\u001b[39m (n_samples, array\u001b[38;5;241m.\u001b[39mshape, ensure_min_samples, context)\n\u001b[0;32m   1091\u001b[0m         )\n\u001b[0;32m   1093\u001b[0m \u001b[38;5;28;01mif\u001b[39;00m ensure_min_features \u001b[38;5;241m>\u001b[39m \u001b[38;5;241m0\u001b[39m \u001b[38;5;129;01mand\u001b[39;00m array\u001b[38;5;241m.\u001b[39mndim \u001b[38;5;241m==\u001b[39m \u001b[38;5;241m2\u001b[39m:\n\u001b[0;32m   1094\u001b[0m     n_features \u001b[38;5;241m=\u001b[39m array\u001b[38;5;241m.\u001b[39mshape[\u001b[38;5;241m1\u001b[39m]\n",
      "\u001b[1;31mValueError\u001b[0m: Found array with 0 sample(s) (shape=(0, 0)) while a minimum of 1 is required by check_pairwise_arrays."
     ]
    }
   ],
   "source": [
    "similarity_score = cosine_similarity(pt)"
   ]
  },
  {
   "cell_type": "code",
   "execution_count": 350,
   "id": "4aa243bd-e8cd-4f61-bace-34f56fe53bd2",
   "metadata": {},
   "outputs": [
    {
     "data": {
      "text/plain": [
       "(706, 706)"
      ]
     },
     "execution_count": 350,
     "metadata": {},
     "output_type": "execute_result"
    }
   ],
   "source": [
    "similarity_score.shape"
   ]
  },
  {
   "cell_type": "markdown",
   "id": "7f8c66bf-3181-4d01-b05c-07bc49a1dadd",
   "metadata": {},
   "source": [
    "### Book recommendation system"
   ]
  },
  {
   "cell_type": "code",
   "execution_count": 351,
   "id": "a5741fd2-afeb-4dc2-9e43-2bb9bf609d4d",
   "metadata": {},
   "outputs": [],
   "source": [
    "def book_recommend(book_name):\n",
    "    ## fetch index\n",
    "    index = np.where(pt.index == book_name)[0][0]\n",
    "    similar_item = sorted(list(enumerate(similarity_score[index])), key =lambda x : x[1],reverse=True)[1: 11]\n",
    "\n",
    "    for i in similar_item:\n",
    "        print(pt.index[i[0]])"
   ]
  },
  {
   "cell_type": "code",
   "execution_count": 352,
   "id": "7c73241f-5c83-4411-a80d-da08eaf721ef",
   "metadata": {},
   "outputs": [
    {
     "name": "stdout",
     "output_type": "stream",
     "text": [
      "Where the Heart Is (Oprah's Book Club (Paperback))\n",
      "Good in Bed\n",
      "The Book of Ruth (Oprah's Book Club (Paperback))\n",
      "Life of Pi\n",
      "Lucky : A Memoir\n",
      "The Pilot's Wife : A Novel\n",
      "Drowning Ruth (Oprah's Book Club)\n",
      "The Nanny Diaries: A Novel\n",
      "Nights in Rodanthe\n",
      "Empire Falls\n"
     ]
    }
   ],
   "source": [
    "book_recommend('The Lovely Bones: A Novel')"
   ]
  },
  {
   "cell_type": "code",
   "execution_count": 353,
   "id": "0e0eab06-2a1b-4233-909e-20ffa5b9d11d",
   "metadata": {},
   "outputs": [
    {
     "name": "stdout",
     "output_type": "stream",
     "text": [
      "Harry Potter and the Prisoner of Azkaban (Book 3)\n",
      "Harry Potter and the Goblet of Fire (Book 4)\n",
      "Harry Potter and the Sorcerer's Stone (Harry Potter (Paperback))\n",
      "Harry Potter and the Sorcerer's Stone (Book 1)\n",
      "Harry Potter and the Order of the Phoenix (Book 5)\n",
      "Charlotte's Web (Trophy Newbery)\n",
      "The Fellowship of the Ring (The Lord of the Rings, Part 1)\n",
      "The Witness\n",
      "The Firm\n",
      "The Secret Garden\n"
     ]
    }
   ],
   "source": [
    "book_recommend('Harry Potter and the Chamber of Secrets (Book 2)')"
   ]
  },
  {
   "cell_type": "code",
   "execution_count": 354,
   "id": "59c440ee-ec59-41da-ac9b-56e4e7032963",
   "metadata": {},
   "outputs": [
    {
     "name": "stdout",
     "output_type": "stream",
     "text": [
      "Secrets\n",
      "Exclusive\n",
      "Message from Nam\n",
      "Kaleidoscope\n",
      "Remember Me\n",
      "The Long Road Home\n",
      "Anne of Avonlea (Anne of Green Gables Novels (Paperback))\n",
      "Montana Sky\n",
      "Unspeakable\n",
      "Fine Things\n"
     ]
    }
   ],
   "source": [
    "book_recommend('The Witness')"
   ]
  },
  {
   "cell_type": "markdown",
   "id": "0bf42882-44db-4331-b616-0dfed86a019b",
   "metadata": {},
   "source": [
    "### dump the required files"
   ]
  },
  {
   "cell_type": "code",
   "execution_count": 355,
   "id": "f50c12d3-ab95-456f-b4b3-78477f89edfc",
   "metadata": {},
   "outputs": [],
   "source": [
    "import pickle"
   ]
  },
  {
   "cell_type": "code",
   "execution_count": 356,
   "id": "638df1d1-3045-4ebd-a288-0e2ffb38c334",
   "metadata": {},
   "outputs": [],
   "source": [
    "pickle.dump(popular_dataframe,open('popular_50.pkl','wb'))"
   ]
  },
  {
   "cell_type": "code",
   "execution_count": 357,
   "id": "d7eec0d4-d681-4d31-8885-e9835d7505ad",
   "metadata": {},
   "outputs": [],
   "source": [
    "pickle.dump(pt,open('pt.pkl','wb'))"
   ]
  },
  {
   "cell_type": "code",
   "execution_count": 358,
   "id": "d6905967-b1d2-4439-a2dc-256c9d6648bd",
   "metadata": {},
   "outputs": [],
   "source": [
    "pickle.dump(similarity_score,open('similarity_score.pkl','wb'))"
   ]
  },
  {
   "cell_type": "code",
   "execution_count": 359,
   "id": "7e556cf8-8b1e-4136-b53a-0694fbe3c59b",
   "metadata": {},
   "outputs": [],
   "source": [
    "pickle.dump(books,open('books.pkl','wb'))"
   ]
  },
  {
   "cell_type": "markdown",
   "id": "5f901234-55ea-439c-a9d9-8bbd42aabd06",
   "metadata": {},
   "source": [
    "### Recommendation function for streamlit"
   ]
  },
  {
   "cell_type": "code",
   "execution_count": 360,
   "id": "923df771-be27-4031-9dd1-def2b69d74f7",
   "metadata": {},
   "outputs": [],
   "source": [
    "def book_recommend_web(book_name):\n",
    "    # index fetch\n",
    "    index = np.where(pt.index==book_name)[0][0]\n",
    "    similar_items = sorted(list(enumerate(similarity_score[index])),key=lambda x:x[1],reverse=True)[1:5]\n",
    "    \n",
    "    data = []\n",
    "    for i in similar_items:\n",
    "        item = []\n",
    "        temp_df = books[books['BOOK_TITLE'] == pt.index[i[0]]]\n",
    "        item.extend(list(temp_df.drop_duplicates('BOOK_TITLE')['BOOK_TITLE'].values))\n",
    "        item.extend(list(temp_df.drop_duplicates('BOOK_TITLE')['BOOK_AUTHOR'].values))\n",
    "        item.extend(list(temp_df.drop_duplicates('BOOK_TITLE')['IMAGE_URL_M'].values))\n",
    "        \n",
    "        data.append(item)\n",
    "    df = pd.DataFrame(data, columns=[\"BOOK_TITLE\", \"BOOK_AUTHOR\", \"IMAGE_URL_M\"])\n",
    "    return df"
   ]
  },
  {
   "cell_type": "code",
   "execution_count": 361,
   "id": "f3fe2155-12e5-49c9-8977-e70e48439eb0",
   "metadata": {},
   "outputs": [
    {
     "data": {
      "text/html": [
       "<div>\n",
       "<style scoped>\n",
       "    .dataframe tbody tr th:only-of-type {\n",
       "        vertical-align: middle;\n",
       "    }\n",
       "\n",
       "    .dataframe tbody tr th {\n",
       "        vertical-align: top;\n",
       "    }\n",
       "\n",
       "    .dataframe thead th {\n",
       "        text-align: right;\n",
       "    }\n",
       "</style>\n",
       "<table border=\"1\" class=\"dataframe\">\n",
       "  <thead>\n",
       "    <tr style=\"text-align: right;\">\n",
       "      <th></th>\n",
       "      <th>BOOK_TITLE</th>\n",
       "      <th>BOOK_AUTHOR</th>\n",
       "      <th>IMAGE_URL_M</th>\n",
       "    </tr>\n",
       "  </thead>\n",
       "  <tbody>\n",
       "    <tr>\n",
       "      <th>0</th>\n",
       "      <td>A Walk to Remember</td>\n",
       "      <td>Nicholas Sparks</td>\n",
       "      <td>http://images.amazon.com/images/P/0446608955.0...</td>\n",
       "    </tr>\n",
       "    <tr>\n",
       "      <th>1</th>\n",
       "      <td>The Rescue</td>\n",
       "      <td>Nicholas Sparks</td>\n",
       "      <td>http://images.amazon.com/images/P/0446610399.0...</td>\n",
       "    </tr>\n",
       "    <tr>\n",
       "      <th>2</th>\n",
       "      <td>One Door Away from Heaven</td>\n",
       "      <td>Dean R. Koontz</td>\n",
       "      <td>http://images.amazon.com/images/P/0553582755.0...</td>\n",
       "    </tr>\n",
       "    <tr>\n",
       "      <th>3</th>\n",
       "      <td>Toxin</td>\n",
       "      <td>Robin Cook</td>\n",
       "      <td>http://images.amazon.com/images/P/0425166619.0...</td>\n",
       "    </tr>\n",
       "  </tbody>\n",
       "</table>\n",
       "</div>"
      ],
      "text/plain": [
       "                  BOOK_TITLE      BOOK_AUTHOR  \\\n",
       "0         A Walk to Remember  Nicholas Sparks   \n",
       "1                 The Rescue  Nicholas Sparks   \n",
       "2  One Door Away from Heaven   Dean R. Koontz   \n",
       "3                      Toxin       Robin Cook   \n",
       "\n",
       "                                         IMAGE_URL_M  \n",
       "0  http://images.amazon.com/images/P/0446608955.0...  \n",
       "1  http://images.amazon.com/images/P/0446610399.0...  \n",
       "2  http://images.amazon.com/images/P/0553582755.0...  \n",
       "3  http://images.amazon.com/images/P/0425166619.0...  "
      ]
     },
     "execution_count": 361,
     "metadata": {},
     "output_type": "execute_result"
    }
   ],
   "source": [
    "book_recommend_web('The Notebook')"
   ]
  },
  {
   "cell_type": "code",
   "execution_count": null,
   "id": "3dd16dbe-6e6d-49a0-9856-9d6d5a960368",
   "metadata": {},
   "outputs": [],
   "source": []
  }
 ],
 "metadata": {
  "kernelspec": {
   "display_name": "Python 3",
   "language": "python",
   "name": "python3"
  },
  "language_info": {
   "codemirror_mode": {
    "name": "ipython",
    "version": 3
   },
   "file_extension": ".py",
   "mimetype": "text/x-python",
   "name": "python",
   "nbconvert_exporter": "python",
   "pygments_lexer": "ipython3",
   "version": "3.12.6"
  }
 },
 "nbformat": 4,
 "nbformat_minor": 5
}
